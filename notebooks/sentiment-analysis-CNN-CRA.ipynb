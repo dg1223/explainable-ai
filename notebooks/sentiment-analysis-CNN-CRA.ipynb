{
 "cells": [
  {
   "cell_type": "markdown",
   "metadata": {},
   "source": [
    "# Interpreting Sentiment Analysis"
   ]
  },
  {
   "cell_type": "markdown",
   "metadata": {},
   "source": [
    "## Preparing Data\n",
    "\n",
    "As convolutional layers expect the batch dimension to be first we can tell TorchText to return the data already permuted using the `batch_first = True` argument on the field."
   ]
  },
  {
   "cell_type": "code",
   "execution_count": 1,
   "metadata": {},
   "outputs": [
    {
     "name": "stderr",
     "output_type": "stream",
     "text": [
      "/anaconda/envs/azureml_py36/lib/python3.6/site-packages/torchtext/data/field.py:150: UserWarning: Field class will be retired soon and moved to torchtext.legacy. Please see the most recent release notes for further information.\n",
      "  warnings.warn('{} class will be retired soon and moved to torchtext.legacy. Please see the most recent release notes for further information.'.format(self.__class__.__name__), UserWarning)\n",
      "/anaconda/envs/azureml_py36/lib/python3.6/site-packages/torchtext/data/field.py:150: UserWarning: LabelField class will be retired soon and moved to torchtext.legacy. Please see the most recent release notes for further information.\n",
      "  warnings.warn('{} class will be retired soon and moved to torchtext.legacy. Please see the most recent release notes for further information.'.format(self.__class__.__name__), UserWarning)\n",
      "/anaconda/envs/azureml_py36/lib/python3.6/site-packages/torchtext/data/example.py:78: UserWarning: Example class will be retired soon and moved to torchtext.legacy. Please see the most recent release notes for further information.\n",
      "  warnings.warn('Example class will be retired soon and moved to torchtext.legacy. Please see the most recent release notes for further information.', UserWarning)\n"
     ]
    },
    {
     "name": "stdout",
     "output_type": "stream",
     "text": [
      "time taken to load & split data: 362.98546147346497 seconds\n"
     ]
    }
   ],
   "source": [
    "import random\n",
    "import time\n",
    "import numpy as np\n",
    "import pandas as pd\n",
    "\n",
    "import spacy\n",
    "import torch\n",
    "import torchtext\n",
    "\n",
    "import torch.nn as nn\n",
    "import torch.nn.functional as F\n",
    "\n",
    "from torchtext.vocab import Vocab\n",
    "\n",
    "from captum.attr import IntegratedGradients\n",
    "from captum.attr import LayerIntegratedGradients, TokenReferenceBase\n",
    "\n",
    "\n",
    "'''\n",
    "Load custom Captum Visualization Python script\n",
    "(Original modification: Antony; secondary modification: Shamir)\n",
    "'''\n",
    "import visualization_mod\n",
    "\n",
    "SEED = 1234\n",
    "\n",
    "random.seed(SEED)\n",
    "np.random.seed(SEED)\n",
    "torch.manual_seed(SEED)\n",
    "torch.backends.cudnn.deterministic = True\n",
    "\n",
    "# tokenize texts and labels\n",
    "TEXT = torchtext.data.Field(tokenize = 'spacy', batch_first = True)\n",
    "LABEL = torchtext.data.LabelField(dtype = torch.float)\n",
    "\n",
    "# log time of loading dataset\n",
    "start = time.time()\n",
    "\n",
    "# load and partition dataset into train, validation and test\n",
    "train_data, test_data = torchtext.datasets.IMDB.splits(text_field=TEXT,\n",
    "                                      label_field=LABEL,\n",
    "                                      train='train',\n",
    "                                      test='test',\n",
    "                                      path='/mnt/batch/tasks/shared/LS_root/mounts/clusters/xai/code/xai-ml/datasets/sentiment-analysis-cra/')\n",
    "\n",
    "train_data, valid_data = train_data.split(random_state = random.seed(SEED))\n",
    "\n",
    "print('time taken to load & split data: {} seconds'.format(time.time() - start))"
   ]
  },
  {
   "cell_type": "markdown",
   "metadata": {},
   "source": [
    "Build the vocab and load the pre-trained word embeddings."
   ]
  },
  {
   "cell_type": "code",
   "execution_count": 2,
   "metadata": {},
   "outputs": [],
   "source": [
    "MAX_VOCAB_SIZE = 25_000\n",
    "\n",
    "TEXT.build_vocab(train_data, \n",
    "                 max_size = MAX_VOCAB_SIZE, \n",
    "                 vectors = \"glove.6B.100d\", \n",
    "                 unk_init = torch.Tensor.normal_)\n",
    "\n",
    "LABEL.build_vocab(train_data)"
   ]
  },
  {
   "cell_type": "markdown",
   "metadata": {},
   "source": [
    "As before, we create the iterators."
   ]
  },
  {
   "cell_type": "code",
   "execution_count": 3,
   "metadata": {},
   "outputs": [
    {
     "name": "stderr",
     "output_type": "stream",
     "text": [
      "/anaconda/envs/azureml_py36/lib/python3.6/site-packages/torchtext/data/iterator.py:48: UserWarning: BucketIterator class will be retired soon and moved to torchtext.legacy. Please see the most recent release notes for further information.\n",
      "  warnings.warn('{} class will be retired soon and moved to torchtext.legacy. Please see the most recent release notes for further information.'.format(self.__class__.__name__), UserWarning)\n"
     ]
    }
   ],
   "source": [
    "BATCH_SIZE = 64\n",
    "\n",
    "cuda_device = \"cuda:\" + str(torch.cuda.current_device())\n",
    "device = torch.device(cuda_device if torch.cuda.is_available() else \"cpu\")\n",
    "\n",
    "train_iterator, valid_iterator, test_iterator = torchtext.data.BucketIterator.splits(\n",
    "    (train_data, valid_data, test_data), \n",
    "    batch_size = BATCH_SIZE, \n",
    "    device = device\n",
    ")"
   ]
  },
  {
   "cell_type": "markdown",
   "metadata": {},
   "source": [
    "## Build the Model\n",
    "\n",
    "Now to build our model.\n",
    "\n",
    "The first major hurdle is visualizing how CNNs are used for text. Images are typically 2 dimensional (we'll ignore the fact that there is a third \"colour\" dimension for now) whereas text is 1 dimensional. However, we know that the first step in almost all of our previous tutorials (and pretty much all NLP pipelines) is converting the words into word embeddings. This is how we can visualize our words in 2 dimensions, each word along one axis and the elements of vectors aross the other dimension. Consider the 2 dimensional representation of the embedded sentence below:\n",
    "\n",
    "![](assets/sentiment9.png)\n",
    "\n",
    "We can then use a filter that is **[n x emb_dim]**. This will cover $n$ sequential words entirely, as their width will be `emb_dim` dimensions. Consider the image below, with our word vectors are represented in green. Here we have 4 words with 5 dimensional embeddings, creating a [4x5] \"image\" tensor. A filter that covers two words at a time (i.e. bi-grams) will be **[2x5]** filter, shown in yellow, and each element of the filter with have a _weight_ associated with it. The output of this filter (shown in red) will be a single real number that is the weighted sum of all elements covered by the filter.\n",
    "\n",
    "![](assets/sentiment12.png)\n",
    "\n",
    "The filter then moves \"down\" the image (or across the sentence) to cover the next bi-gram and another output (weighted sum) is calculated. \n",
    "\n",
    "![](assets/sentiment13.png)\n",
    "\n",
    "Finally, the filter moves down again and the final output for this filter is calculated.\n",
    "\n",
    "![](assets/sentiment14.png)\n",
    "\n",
    "In our case (and in the general case where the width of the filter equals the width of the \"image\"), our output will be a vector with number of elements equal to the height of the image (or lenth of the word) minus the height of the filter plus one, $4-2+1=3$ in this case.\n",
    "\n",
    "This example showed how to calculate the output of one filter. Our model (and pretty much all CNNs) will have lots of these filters. The idea is that each filter will learn a different feature to extract. In the above example, we are hoping each of the **[2 x emb_dim]** filters will be looking for the occurence of different bi-grams. \n",
    "\n",
    "In our model, we will also have different sizes of filters, heights of 3, 4 and 5, with 100 of each of them. The intuition is that we will be looking for the occurence of different tri-grams, 4-grams and 5-grams that are relevant for analysing sentiment of movie reviews.\n",
    "\n",
    "The next step in our model is to use *pooling* (specifically *max pooling*) on the output of the convolutional layers. This is similar to the FastText model where we performed the average over each of the word vectors, implemented by the `F.avg_pool2d` function, however instead of taking the average over a dimension, we are taking the maximum value over a dimension. Below an example of taking the maximum value (0.9) from the output of the convolutional layer on the example sentence (not shown is the activation function applied to the output of the convolutions).\n",
    "\n",
    "![](assets/sentiment15.png)\n",
    "\n",
    "The idea here is that the maximum value is the \"most important\" feature for determining the sentiment of the review, which corresponds to the \"most important\" n-gram within the review. How do we know what the \"most important\" n-gram is? Luckily, we don't have to! Through backpropagation, the weights of the filters are changed so that whenever certain n-grams that are highly indicative of the sentiment are seen, the output of the filter is a \"high\" value. This \"high\" value then passes through the max pooling layer if it is the maximum value in the output. \n",
    "\n",
    "As our model has 100 filters of 3 different sizes, that means we have 300 different n-grams the model thinks are important. We concatenate these together into a single vector and pass them through a linear layer to predict the sentiment. We can think of the weights of this linear layer as \"weighting up the evidence\" from each of the 300 n-grams and making a final decision. \n",
    "\n",
    "### Implementation Details\n",
    "\n",
    "We implement the convolutional layers with `nn.Conv2d`. The `in_channels` argument is the number of \"channels\" in your image going into the convolutional layer. In actual images this is usually 3 (one channel for each of the red, blue and green channels), however when using text we only have a single channel, the text itself. The `out_channels` is the number of filters and the `kernel_size` is the size of the filters. Each of our `kernel_size`s is going to be **[n x emb_dim]** where $n$ is the size of the n-grams.\n",
    "\n",
    "In PyTorch, RNNs want the input with the batch dimension second, whereas CNNs want the batch dimension first - we do not have to permute the data here as we have already set `batch_first = True` in our `TEXT` field. We then pass the sentence through an embedding layer to get our embeddings. The second dimension of the input into a `nn.Conv2d` layer must be the channel dimension. As text technically does not have a channel dimension, we `unsqueeze` our tensor to create one. This matches with our `in_channels=1` in the initialization of our convolutional layers. \n",
    "\n",
    "We then pass the tensors through the convolutional and pooling layers, using the `ReLU` activation function after the convolutional layers. Another nice feature of the pooling layers is that they handle sentences of different lengths. The size of the output of the convolutional layer is dependent on the size of the input to it, and different batches contain sentences of different lengths. Without the max pooling layer the input to our linear layer would depend on the size of the input sentence (not what we want). One option to rectify this would be to trim/pad all sentences to the same length, however with the max pooling layer we always know the input to the linear layer will be the total number of filters. **Note**: there an exception to this if your sentence(s) are shorter than the largest filter used. You will then have to pad your sentences to the length of the largest filter. In the IMDb data there are no reviews only 5 words long so we don't have to worry about that, but you will if you are using your own data.\n",
    "\n",
    "Finally, we perform dropout on the concatenated filter outputs and then pass them through a linear layer to make our predictions."
   ]
  },
  {
   "cell_type": "code",
   "execution_count": null,
   "metadata": {},
   "outputs": [],
   "source": [
    "#import torch.nn as nn\n",
    "#import torch.nn.functional as F\n",
    "\n",
    "class CNN(nn.Module):\n",
    "    def __init__(self, vocab_size, embedding_dim, n_filters, filter_sizes, output_dim, \n",
    "                 dropout, pad_idx):\n",
    "        \n",
    "        super().__init__()\n",
    "        \n",
    "        self.embedding = nn.Embedding(vocab_size, embedding_dim, padding_idx = pad_idx)\n",
    "        \n",
    "        self.conv_0 = nn.Conv2d(in_channels = 1, \n",
    "                                out_channels = n_filters, \n",
    "                                kernel_size = (filter_sizes[0], embedding_dim))\n",
    "        \n",
    "        self.conv_1 = nn.Conv2d(in_channels = 1, \n",
    "                                out_channels = n_filters, \n",
    "                                kernel_size = (filter_sizes[1], embedding_dim))\n",
    "        \n",
    "        self.conv_2 = nn.Conv2d(in_channels = 1, \n",
    "                                out_channels = n_filters, \n",
    "                                kernel_size = (filter_sizes[2], embedding_dim))\n",
    "        \n",
    "        self.fc = nn.Linear(len(filter_sizes) * n_filters, output_dim)\n",
    "        \n",
    "        self.dropout = nn.Dropout(dropout)\n",
    "        \n",
    "    def forward(self, text):\n",
    "                \n",
    "        #text = [batch size, sent len]\n",
    "        \n",
    "        embedded = self.embedding(text)\n",
    "                \n",
    "        #embedded = [batch size, sent len, emb dim]\n",
    "        \n",
    "        embedded = embedded.unsqueeze(1)\n",
    "        \n",
    "        #embedded = [batch size, 1, sent len, emb dim]\n",
    "        \n",
    "        conved_0 = F.relu(self.conv_0(embedded).squeeze(3))\n",
    "        conved_1 = F.relu(self.conv_1(embedded).squeeze(3))\n",
    "        conved_2 = F.relu(self.conv_2(embedded).squeeze(3))\n",
    "            \n",
    "        #conved_n = [batch size, n_filters, sent len - filter_sizes[n] + 1]\n",
    "        \n",
    "        pooled_0 = F.max_pool1d(conved_0, conved_0.shape[2]).squeeze(2)\n",
    "        pooled_1 = F.max_pool1d(conved_1, conved_1.shape[2]).squeeze(2)\n",
    "        pooled_2 = F.max_pool1d(conved_2, conved_2.shape[2]).squeeze(2)\n",
    "        \n",
    "        #pooled_n = [batch size, n_filters]\n",
    "        \n",
    "        cat = self.dropout(torch.cat((pooled_0, pooled_1, pooled_2), dim = 1))\n",
    "\n",
    "        #cat = [batch size, n_filters * len(filter_sizes)]\n",
    "            \n",
    "        return self.fc(cat)"
   ]
  },
  {
   "cell_type": "markdown",
   "metadata": {},
   "source": [
    "Currently the `CNN` model can only use 3 different sized filters, but we can actually improve the code of our model to make it more generic and take any number of filters.\n",
    "\n",
    "We do this by placing all of our convolutional layers in a  `nn.ModuleList`, a function used to hold a list of PyTorch `nn.Module`s. If we simply used a standard Python list, the modules within the list cannot be \"seen\" by any modules outside the list which will cause us some errors.\n",
    "\n",
    "We can now pass an arbitrary sized list of filter sizes and the list comprehension will create a convolutional layer for each of them. Then, in the `forward` method we iterate through the list applying each convolutional layer to get a list of convolutional outputs, which we also feed through the max pooling in a list comprehension before concatenating together and passing through the dropout and linear layers."
   ]
  },
  {
   "cell_type": "code",
   "execution_count": 4,
   "metadata": {},
   "outputs": [],
   "source": [
    "class CNN(nn.Module):\n",
    "    def __init__(self, vocab_size, embedding_dim, n_filters, filter_sizes, output_dim, \n",
    "                 dropout, pad_idx):\n",
    "        \n",
    "        super().__init__()\n",
    "                \n",
    "        self.embedding = nn.Embedding(vocab_size, embedding_dim, padding_idx = pad_idx)\n",
    "        \n",
    "        self.convs = nn.ModuleList([\n",
    "                                    nn.Conv2d(in_channels = 1, \n",
    "                                              out_channels = n_filters, \n",
    "                                              kernel_size = (fs, embedding_dim)) \n",
    "                                    for fs in filter_sizes\n",
    "                                    ])\n",
    "        \n",
    "        self.fc = nn.Linear(len(filter_sizes) * n_filters, output_dim)\n",
    "        \n",
    "        self.dropout = nn.Dropout(dropout)\n",
    "        \n",
    "        # softmax output layer\n",
    "#         self.softmax = nn.LogSoftmax(dim=1)\n",
    "        \n",
    "    def forward(self, text):\n",
    "                \n",
    "        #text = [batch size, sent len]\n",
    "        \n",
    "        embedded = self.embedding(text)\n",
    "                \n",
    "        #embedded = [batch size, sent len, emb dim]\n",
    "        \n",
    "        embedded = embedded.unsqueeze(1)\n",
    "        \n",
    "        #embedded = [batch size, 1, sent len, emb dim]\n",
    "        \n",
    "        conved = [F.relu(conv(embedded)).squeeze(3) for conv in self.convs]\n",
    "            \n",
    "        #conved_n = [batch size, n_filters, sent len - filter_sizes[n] + 1]\n",
    "                \n",
    "        pooled = [F.max_pool1d(conv, conv.shape[2]).squeeze(2) for conv in conved]\n",
    "        \n",
    "        #pooled_n = [batch size, n_filters]\n",
    "        \n",
    "        cat = self.dropout(torch.cat(pooled, dim = 1))\n",
    "\n",
    "        #cat = [batch size, n_filters * len(filter_sizes)]\n",
    "        \n",
    "#         out = self.softmax(cat)\n",
    "        \n",
    "#         return self.fc(out)\n",
    "        return self.fc(cat)"
   ]
  },
  {
   "cell_type": "markdown",
   "metadata": {},
   "source": [
    "We can also implement the above model using 1-dimensional convolutional layers, where the embedding dimension is the \"depth\" of the filter and the number of tokens in the sentence is the width.\n",
    "\n",
    "We'll run our tests in this notebook using the 2-dimensional convolutional model, but leave the implementation for the 1-dimensional model below for anyone interested. "
   ]
  },
  {
   "cell_type": "code",
   "execution_count": null,
   "metadata": {},
   "outputs": [],
   "source": [
    "class CNN1d(nn.Module):\n",
    "    def __init__(self, vocab_size, embedding_dim, n_filters, filter_sizes, output_dim, \n",
    "                 dropout, pad_idx):\n",
    "        \n",
    "        super().__init__()\n",
    "        \n",
    "        self.embedding = nn.Embedding(vocab_size, embedding_dim, padding_idx = pad_idx)\n",
    "        \n",
    "        self.convs = nn.ModuleList([\n",
    "                                    nn.Conv1d(in_channels = embedding_dim, \n",
    "                                              out_channels = n_filters, \n",
    "                                              kernel_size = fs)\n",
    "                                    for fs in filter_sizes\n",
    "                                    ])\n",
    "        \n",
    "        self.fc = nn.Linear(len(filter_sizes) * n_filters, output_dim)\n",
    "        \n",
    "        self.dropout = nn.Dropout(dropout)\n",
    "        \n",
    "    def forward(self, text):\n",
    "        \n",
    "        #text = [batch size, sent len]\n",
    "        \n",
    "        embedded = self.embedding(text)\n",
    "                \n",
    "        #embedded = [batch size, sent len, emb dim]\n",
    "        \n",
    "        embedded = embedded.permute(0, 2, 1)\n",
    "        \n",
    "        #embedded = [batch size, emb dim, sent len]\n",
    "        \n",
    "        conved = [F.relu(conv(embedded)) for conv in self.convs]\n",
    "            \n",
    "        #conved_n = [batch size, n_filters, sent len - filter_sizes[n] + 1]\n",
    "        \n",
    "        pooled = [F.max_pool1d(conv, conv.shape[2]).squeeze(2) for conv in conved]\n",
    "        \n",
    "        #pooled_n = [batch size, n_filters]\n",
    "        \n",
    "        cat = self.dropout(torch.cat(pooled, dim = 1))\n",
    "        \n",
    "        #cat = [batch size, n_filters * len(filter_sizes)]\n",
    "            \n",
    "        return self.fc(cat)"
   ]
  },
  {
   "cell_type": "markdown",
   "metadata": {},
   "source": [
    "We create an instance of our `CNN` class. \n",
    "\n",
    "We can change `CNN` to `CNN1d` if we want to run the 1-dimensional convolutional model, noting that both models give almost identical results."
   ]
  },
  {
   "cell_type": "code",
   "execution_count": 5,
   "metadata": {},
   "outputs": [
    {
     "data": {
      "text/plain": [
       "CNN(\n",
       "  (embedding): Embedding(9433, 100, padding_idx=1)\n",
       "  (convs): ModuleList(\n",
       "    (0): Conv2d(1, 100, kernel_size=(2, 100), stride=(1, 1))\n",
       "    (1): Conv2d(1, 100, kernel_size=(3, 100), stride=(1, 1))\n",
       "    (2): Conv2d(1, 100, kernel_size=(3, 100), stride=(1, 1))\n",
       "  )\n",
       "  (fc): Linear(in_features=300, out_features=1, bias=True)\n",
       "  (dropout): Dropout(p=0.5, inplace=False)\n",
       ")"
      ]
     },
     "execution_count": 5,
     "metadata": {},
     "output_type": "execute_result"
    }
   ],
   "source": [
    "INPUT_DIM = len(TEXT.vocab)\n",
    "EMBEDDING_DIM = 100\n",
    "N_FILTERS = 100\n",
    "FILTER_SIZES = [2,3,3]\n",
    "OUTPUT_DIM = 1\n",
    "DROPOUT = 0.5\n",
    "PAD_IDX = TEXT.vocab.stoi[TEXT.pad_token]\n",
    "\n",
    "model = CNN(INPUT_DIM, EMBEDDING_DIM, N_FILTERS, FILTER_SIZES, OUTPUT_DIM, DROPOUT, PAD_IDX)\n",
    "model"
   ]
  },
  {
   "cell_type": "markdown",
   "metadata": {},
   "source": [
    "Checking the number of parameters in our model we can see it has about the same as the FastText model. \n",
    "\n",
    "Both the `CNN` and the `CNN1d` models have the exact same number of parameters."
   ]
  },
  {
   "cell_type": "code",
   "execution_count": 6,
   "metadata": {},
   "outputs": [
    {
     "name": "stdout",
     "output_type": "stream",
     "text": [
      "The model has 1,023,901 trainable parameters\n"
     ]
    }
   ],
   "source": [
    "def count_parameters(model):\n",
    "    return sum(p.numel() for p in model.parameters() if p.requires_grad)\n",
    "\n",
    "print(f'The model has {count_parameters(model):,} trainable parameters')"
   ]
  },
  {
   "cell_type": "markdown",
   "metadata": {},
   "source": [
    "Next, we'll load the pre-trained embeddings"
   ]
  },
  {
   "cell_type": "code",
   "execution_count": 7,
   "metadata": {},
   "outputs": [
    {
     "data": {
      "text/plain": [
       "tensor([[-0.1117, -0.4966,  0.1631,  ...,  1.2647, -0.2753, -0.1325],\n",
       "        [-0.8555, -0.7208,  1.3755,  ...,  0.0825, -1.1314,  0.3997],\n",
       "        [-0.0465,  0.6197,  0.5665,  ..., -0.3762, -0.0325,  0.8062],\n",
       "        ...,\n",
       "        [-0.6579,  0.9318,  0.4520,  ...,  0.6688,  0.1790, -0.9520],\n",
       "        [ 1.3664, -0.3945,  1.8201,  ..., -0.8430, -0.7597, -1.0947],\n",
       "        [ 0.1261, -0.6265, -0.1390,  ..., -1.8336,  0.2157, -0.1499]])"
      ]
     },
     "execution_count": 7,
     "metadata": {},
     "output_type": "execute_result"
    }
   ],
   "source": [
    "pretrained_embeddings = TEXT.vocab.vectors\n",
    "\n",
    "model.embedding.weight.data.copy_(pretrained_embeddings)"
   ]
  },
  {
   "cell_type": "markdown",
   "metadata": {},
   "source": [
    "Then zero the initial weights of the unknown and padding tokens."
   ]
  },
  {
   "cell_type": "code",
   "execution_count": 8,
   "metadata": {},
   "outputs": [],
   "source": [
    "UNK_IDX = TEXT.vocab.stoi[TEXT.unk_token]\n",
    "\n",
    "model.embedding.weight.data[UNK_IDX] = torch.zeros(EMBEDDING_DIM)\n",
    "model.embedding.weight.data[PAD_IDX] = torch.zeros(EMBEDDING_DIM)"
   ]
  },
  {
   "cell_type": "markdown",
   "metadata": {},
   "source": [
    "## Train the Model"
   ]
  },
  {
   "cell_type": "markdown",
   "metadata": {},
   "source": [
    "Training is the same as before. We initialize the optimizer, loss function (criterion) and place the model and criterion on the GPU (if available)"
   ]
  },
  {
   "cell_type": "code",
   "execution_count": 9,
   "metadata": {},
   "outputs": [],
   "source": [
    "import torch.optim as optim\n",
    "\n",
    "optimizer = optim.Adam(model.parameters())\n",
    "\n",
    "criterion = nn.BCEWithLogitsLoss()\n",
    "\n",
    "model = model.to(device)\n",
    "criterion = criterion.to(device)"
   ]
  },
  {
   "cell_type": "markdown",
   "metadata": {},
   "source": [
    "We implement the function to calculate accuracy..."
   ]
  },
  {
   "cell_type": "code",
   "execution_count": 10,
   "metadata": {},
   "outputs": [],
   "source": [
    "def binary_accuracy(preds, y):\n",
    "    \"\"\"\n",
    "    Returns accuracy per batch, i.e. if you get 8/10 right, this returns 0.8, NOT 8\n",
    "    \"\"\"\n",
    "\n",
    "    #round predictions to the closest integer\n",
    "    rounded_preds = torch.round(torch.sigmoid(preds))\n",
    "    correct = (rounded_preds == y).float() #convert into float for division \n",
    "    acc = correct.sum() / len(correct)\n",
    "    return acc"
   ]
  },
  {
   "cell_type": "markdown",
   "metadata": {},
   "source": [
    "We define a function for training our model...\n",
    "\n",
    "**Note**: as we are using dropout again, we must remember to use `model.train()` to ensure the dropout is \"turned on\" while training."
   ]
  },
  {
   "cell_type": "code",
   "execution_count": 11,
   "metadata": {},
   "outputs": [],
   "source": [
    "def train(model, iterator, optimizer, criterion):\n",
    "    \n",
    "    epoch_loss = 0\n",
    "    epoch_acc = 0\n",
    "    \n",
    "    model.train()\n",
    "    \n",
    "    for batch in iterator:\n",
    "        \n",
    "        optimizer.zero_grad()\n",
    "        \n",
    "        predictions = model(batch.text).squeeze(1)\n",
    "        \n",
    "        loss = criterion(predictions, batch.label)\n",
    "        \n",
    "        acc = binary_accuracy(predictions, batch.label)\n",
    "        \n",
    "        loss.backward()\n",
    "        \n",
    "        optimizer.step()\n",
    "        \n",
    "        epoch_loss += loss.item()\n",
    "        epoch_acc += acc.item()\n",
    "        \n",
    "    return epoch_loss / len(iterator), epoch_acc / len(iterator)"
   ]
  },
  {
   "cell_type": "markdown",
   "metadata": {},
   "source": [
    "We define a function for testing our model...\n",
    "\n",
    "**Note**: again, as we are now using dropout, we must remember to use `model.eval()` to ensure the dropout is \"turned off\" while evaluating."
   ]
  },
  {
   "cell_type": "code",
   "execution_count": 12,
   "metadata": {},
   "outputs": [],
   "source": [
    "def evaluate(model, iterator, criterion):\n",
    "    \n",
    "    epoch_loss = 0\n",
    "    epoch_acc = 0\n",
    "    \n",
    "    model.eval()\n",
    "    \n",
    "    with torch.no_grad():\n",
    "    \n",
    "        for batch in iterator:\n",
    "\n",
    "            predictions = model(batch.text).squeeze(1)\n",
    "            \n",
    "            loss = criterion(predictions, batch.label)\n",
    "            \n",
    "            acc = binary_accuracy(predictions, batch.label)\n",
    "\n",
    "            epoch_loss += loss.item()\n",
    "            epoch_acc += acc.item()\n",
    "        \n",
    "    return epoch_loss / len(iterator), epoch_acc / len(iterator)"
   ]
  },
  {
   "cell_type": "markdown",
   "metadata": {},
   "source": [
    "Let's define our function to tell us how long epochs take."
   ]
  },
  {
   "cell_type": "code",
   "execution_count": 13,
   "metadata": {},
   "outputs": [],
   "source": [
    "def epoch_time(start_time, end_time):\n",
    "    elapsed_time = end_time - start_time\n",
    "    elapsed_mins = int(elapsed_time / 60)\n",
    "    elapsed_secs = int(elapsed_time - (elapsed_mins * 60))\n",
    "    return elapsed_mins, elapsed_secs"
   ]
  },
  {
   "cell_type": "markdown",
   "metadata": {},
   "source": [
    "Finally, we train our model..."
   ]
  },
  {
   "cell_type": "code",
   "execution_count": 14,
   "metadata": {
    "scrolled": true
   },
   "outputs": [
    {
     "name": "stderr",
     "output_type": "stream",
     "text": [
      "/anaconda/envs/azureml_py36/lib/python3.6/site-packages/torchtext/data/batch.py:23: UserWarning: Batch class will be retired soon and moved to torchtext.legacy. Please see the most recent release notes for further information.\n",
      "  warnings.warn('{} class will be retired soon and moved to torchtext.legacy. Please see the most recent release notes for further information.'.format(self.__class__.__name__), UserWarning)\n"
     ]
    },
    {
     "name": "stdout",
     "output_type": "stream",
     "text": [
      "Epoch: 01 | Epoch Time: 0m 1s\n",
      "\tTrain Loss: 0.489 | Train Acc: 77.70%\n",
      "\t Val. Loss: 0.437 |  Val. Acc: 80.29%\n",
      "Epoch: 02 | Epoch Time: 0m 1s\n",
      "\tTrain Loss: 0.387 | Train Acc: 83.39%\n",
      "\t Val. Loss: 0.371 |  Val. Acc: 84.66%\n",
      "Epoch: 03 | Epoch Time: 0m 1s\n",
      "\tTrain Loss: 0.304 | Train Acc: 87.77%\n",
      "\t Val. Loss: 0.333 |  Val. Acc: 85.45%\n",
      "Epoch: 04 | Epoch Time: 0m 1s\n",
      "\tTrain Loss: 0.237 | Train Acc: 91.05%\n",
      "\t Val. Loss: 0.339 |  Val. Acc: 85.71%\n",
      "Epoch: 05 | Epoch Time: 0m 1s\n",
      "\tTrain Loss: 0.190 | Train Acc: 92.88%\n",
      "\t Val. Loss: 0.334 |  Val. Acc: 86.02%\n",
      "Epoch: 06 | Epoch Time: 0m 1s\n",
      "\tTrain Loss: 0.143 | Train Acc: 95.10%\n",
      "\t Val. Loss: 0.314 |  Val. Acc: 86.75%\n",
      "Epoch: 07 | Epoch Time: 0m 1s\n",
      "\tTrain Loss: 0.106 | Train Acc: 96.63%\n",
      "\t Val. Loss: 0.335 |  Val. Acc: 86.64%\n",
      "Epoch: 08 | Epoch Time: 0m 1s\n",
      "\tTrain Loss: 0.074 | Train Acc: 97.85%\n",
      "\t Val. Loss: 0.360 |  Val. Acc: 86.96%\n",
      "Epoch: 09 | Epoch Time: 0m 1s\n",
      "\tTrain Loss: 0.056 | Train Acc: 98.62%\n",
      "\t Val. Loss: 0.370 |  Val. Acc: 86.85%\n",
      "Epoch: 10 | Epoch Time: 0m 1s\n",
      "\tTrain Loss: 0.039 | Train Acc: 99.14%\n",
      "\t Val. Loss: 0.382 |  Val. Acc: 86.59%\n"
     ]
    }
   ],
   "source": [
    "N_EPOCHS = 10\n",
    "\n",
    "best_valid_loss = float('inf')\n",
    "\n",
    "for epoch in range(N_EPOCHS):\n",
    "\n",
    "    start_time = time.time()\n",
    "    \n",
    "    train_loss, train_acc = train(model, train_iterator, optimizer, criterion)\n",
    "    valid_loss, valid_acc = evaluate(model, valid_iterator, criterion)\n",
    "    \n",
    "    end_time = time.time()\n",
    "\n",
    "    epoch_mins, epoch_secs = epoch_time(start_time, end_time)\n",
    "    \n",
    "    if valid_loss < best_valid_loss:\n",
    "        best_valid_loss = valid_loss\n",
    "        torch.save(model.state_dict(), '/mnt/batch/tasks/shared/LS_root/mounts/clusters/xai/code/xai-ml/models/sentiment-xai-cra-model.pt')\n",
    "    \n",
    "    print(f'Epoch: {epoch+1:02} | Epoch Time: {epoch_mins}m {epoch_secs}s')\n",
    "    print(f'\\tTrain Loss: {train_loss:.3f} | Train Acc: {train_acc*100:.2f}%')\n",
    "    print(f'\\t Val. Loss: {valid_loss:.3f} |  Val. Acc: {valid_acc*100:.2f}%')"
   ]
  },
  {
   "cell_type": "markdown",
   "metadata": {},
   "source": [
    "We get test results comparable to the previous 2 models!"
   ]
  },
  {
   "cell_type": "code",
   "execution_count": 15,
   "metadata": {},
   "outputs": [
    {
     "name": "stdout",
     "output_type": "stream",
     "text": [
      "Test Loss: 0.333 | Test Acc: 87.13%\n"
     ]
    }
   ],
   "source": [
    "model.load_state_dict(torch.load('/mnt/batch/tasks/shared/LS_root/mounts/clusters/xai/code/xai-ml/models/sentiment-xai-cra-model.pt'))\n",
    "\n",
    "test_loss, test_acc = evaluate(model, test_iterator, criterion)\n",
    "\n",
    "print(f'Test Loss: {test_loss:.3f} | Test Acc: {test_acc*100:.2f}%')"
   ]
  },
  {
   "cell_type": "markdown",
   "metadata": {},
   "source": [
    "# Interpretability"
   ]
  },
  {
   "cell_type": "markdown",
   "metadata": {},
   "source": [
    "## Evaluate"
   ]
  },
  {
   "cell_type": "code",
   "execution_count": 16,
   "metadata": {},
   "outputs": [],
   "source": [
    "nlp = spacy.load('en')"
   ]
  },
  {
   "cell_type": "code",
   "execution_count": 17,
   "metadata": {},
   "outputs": [],
   "source": [
    "def forward_with_sigmoid(input):\n",
    "    return torch.sigmoid(model(input))"
   ]
  },
  {
   "cell_type": "code",
   "execution_count": 18,
   "metadata": {},
   "outputs": [
    {
     "name": "stdout",
     "output_type": "stream",
     "text": [
      "Vocabulary Size:  9433\n"
     ]
    }
   ],
   "source": [
    "print('Vocabulary Size: ', len(TEXT.vocab))"
   ]
  },
  {
   "cell_type": "code",
   "execution_count": 19,
   "metadata": {},
   "outputs": [],
   "source": [
    "PAD_IND = TEXT.vocab.stoi['pad']"
   ]
  },
  {
   "cell_type": "code",
   "execution_count": 20,
   "metadata": {},
   "outputs": [],
   "source": [
    "token_reference = TokenReferenceBase(reference_token_idx=PAD_IND)"
   ]
  },
  {
   "cell_type": "markdown",
   "metadata": {},
   "source": [
    "## Explain (Interpret)"
   ]
  },
  {
   "cell_type": "code",
   "execution_count": 42,
   "metadata": {},
   "outputs": [],
   "source": [
    "lig = LayerIntegratedGradients(model, model.embedding)\n",
    "\n",
    "# accumalate couple samples in this array for visualization purposes\n",
    "vis_data_records_ig = []\n",
    "\n",
    "def interpret_sentence(model, sentence, min_len = 35, true_label = 0):\n",
    "    text = [tok.text for tok in nlp.tokenizer(sentence)]\n",
    "    if len(text) < min_len:\n",
    "        text += [''] * (min_len - len(text))\n",
    "    indexed = [TEXT.vocab.stoi[t] for t in text]\n",
    "\n",
    "    model.zero_grad()\n",
    "\n",
    "    input_indices = torch.tensor(indexed, device=device)\n",
    "    input_indices = input_indices.unsqueeze(0)\n",
    "    \n",
    "    # input_indices dim: [sequence_length]\n",
    "    seq_length = min_len\n",
    "\n",
    "    # predict\n",
    "    pred = forward_with_sigmoid(input_indices).item()\n",
    "    pred_ind = round(pred)\n",
    "\n",
    "    # generate reference indices for each sample\n",
    "    reference_indices = token_reference.generate_reference(seq_length, device=device).unsqueeze(0)\n",
    "\n",
    "    # compute attributions and approximation delta using layer integrated gradients\n",
    "    attributions_ig, delta = lig.attribute(input_indices, reference_indices, \\\n",
    "                                           n_steps=500, return_convergence_delta=True)\n",
    "\n",
    "#     print('pred: ', LABEL.vocab.itos[pred_ind], '(', '%.2f'%pred, ')')#, ', delta: ', abs(delta))\n",
    "\n",
    "    add_attributions_to_visualizer(attributions_ig, text, pred, pred_ind, true_label, delta, vis_data_records_ig)\n",
    "    \n",
    "def add_attributions_to_visualizer(attributions, text, pred, pred_ind, true_label, delta, vis_data_records):\n",
    "    attributions = attributions.sum(dim=2).squeeze(0)\n",
    "    attributions = attributions / torch.norm(attributions)\n",
    "    attributions = attributions.cpu().detach().numpy()\n",
    "\n",
    "    # storing couple samples in an array for visualization purposes\n",
    "    vis_data_records.append(visualization_mod.VisualizationDataRecord(\n",
    "                            attributions,                   # NxN matrix (word attributions)\n",
    "                            pred,                           # scalar (predicted probability)\n",
    "                            LABEL.vocab.itos[pred_ind],     # predicted label (predicted class)\n",
    "                            LABEL.vocab.itos[true_label],   # actual label (true class)\n",
    "                            LABEL.vocab.itos[1],            # predicted label (attribution class)\n",
    "                            attributions.sum(),             # scalar (attribution score)\n",
    "                            text,                           # tokenized text (raw input)\n",
    "                            delta))                         # convergence score; e.g.: tensor([0.0002], device='cuda:0', dtype=torch.float64)\n",
    "\n",
    "# integer value of labels\n",
    "positive = 1; negative = 0"
   ]
  },
  {
   "cell_type": "code",
   "execution_count": 49,
   "metadata": {},
   "outputs": [
    {
     "name": "stdout",
     "output_type": "stream",
     "text": [
      "Visualize attributions based on Integrated Gradients\n"
     ]
    },
    {
     "data": {
      "text/html": [
       "<table class=\"python\" width: 100%><tr><th>Original Sentiment</th><th>Predicted Sentiment</th><th>Word Importance</th><tr><td><b>Positive</b></td><td><b>Positive</b></td><td><mark style=\"background-color: hsl(0, 75%, 99%);                    line-height:1.75\"> there                    </mark><mark style=\"background-color: hsl(0, 75%, 98%);                    line-height:1.75\"> may                    </mark><mark style=\"background-color: hsl(0, 75%, 96%);                    line-height:1.75\"> be                    </mark><mark style=\"background-color: hsl(0, 75%, 98%);                    line-height:1.75\"> some                    </mark><mark style=\"background-color: hsl(0, 75%, 99%);                    line-height:1.75\"> large                    </mark><mark style=\"background-color: hsl(120, 75%, 99%);                    line-height:1.75\"> open                    </mark><mark style=\"background-color: hsl(0, 75%, 98%);                    line-height:1.75\"> source                    </mark><mark style=\"background-color: hsl(120, 75%, 93%);                    line-height:1.75\"> react                    </mark><mark style=\"background-color: hsl(120, 75%, 89%);                    line-height:1.75\"> app                    </mark><mark style=\"background-color: hsl(0, 75%, 100%);                    line-height:1.75\">                      </mark><mark style=\"background-color: hsl(0, 75%, 95%);                    line-height:1.75\"> which                    </mark><mark style=\"background-color: hsl(120, 75%, 99%);                    line-height:1.75\"> is                    </mark><mark style=\"background-color: hsl(120, 75%, 80%);                    line-height:1.75\"> more                    </mark><mark style=\"background-color: hsl(120, 75%, 91%);                    line-height:1.75\"> representative                    </mark><mark style=\"background-color: hsl(0, 75%, 100%);                    line-height:1.75\"> of                    </mark><mark style=\"background-color: hsl(120, 75%, 98%);                    line-height:1.75\"> a                    </mark><mark style=\"background-color: hsl(120, 75%, 86%);                    line-height:1.75\"> real                    </mark><mark style=\"background-color: hsl(120, 75%, 66%);                    line-height:1.75\"> -                    </mark><mark style=\"background-color: hsl(0, 75%, 86%);                    line-height:1.75\"> wo                    </mark><mark style=\"background-color: hsl(0, 75%, 100%);                    line-height:1.75\">                     </mark><mark style=\"background-color: hsl(0, 75%, 100%);                    line-height:1.75\">                     </mark><mark style=\"background-color: hsl(0, 75%, 100%);                    line-height:1.75\">                     </mark><mark style=\"background-color: hsl(0, 75%, 100%);                    line-height:1.75\">                     </mark><mark style=\"background-color: hsl(0, 75%, 100%);                    line-height:1.75\">                     </mark><mark style=\"background-color: hsl(0, 75%, 100%);                    line-height:1.75\">                     </mark><mark style=\"background-color: hsl(0, 75%, 100%);                    line-height:1.75\">                     </mark><mark style=\"background-color: hsl(0, 75%, 100%);                    line-height:1.75\">                     </mark><mark style=\"background-color: hsl(0, 75%, 100%);                    line-height:1.75\">                     </mark><mark style=\"background-color: hsl(0, 75%, 100%);                    line-height:1.75\">                     </mark><mark style=\"background-color: hsl(0, 75%, 100%);                    line-height:1.75\">                     </mark><mark style=\"background-color: hsl(0, 75%, 100%);                    line-height:1.75\">                     </mark><mark style=\"background-color: hsl(0, 75%, 100%);                    line-height:1.75\">                     </mark><mark style=\"background-color: hsl(0, 75%, 100%);                    line-height:1.75\">                     </mark><mark style=\"background-color: hsl(0, 75%, 100%);                    line-height:1.75\">                     </mark><mark style=\"background-color: hsl(0, 75%, 100%);                    line-height:1.75\">                     </mark></td><tr><tr><td><b>Positive</b></td><td><b>Positive</b></td><td><mark style=\"background-color: hsl(0, 75%, 97%);                    line-height:1.75\"> that                    </mark><mark style=\"background-color: hsl(120, 75%, 95%);                    line-height:1.75\"> was                    </mark><mark style=\"background-color: hsl(120, 75%, 54%);                    line-height:1.75\"> convincing                    </mark><mark style=\"background-color: hsl(0, 75%, 96%);                    line-height:1.75\"> to                    </mark><mark style=\"background-color: hsl(0, 75%, 96%);                    line-height:1.75\"> you                    </mark><mark style=\"background-color: hsl(120, 75%, 85%);                    line-height:1.75\"> really                    </mark><mark style=\"background-color: hsl(0, 75%, 100%);                    line-height:1.75\">                     </mark><mark style=\"background-color: hsl(0, 75%, 100%);                    line-height:1.75\">                     </mark><mark style=\"background-color: hsl(0, 75%, 100%);                    line-height:1.75\">                     </mark><mark style=\"background-color: hsl(0, 75%, 100%);                    line-height:1.75\">                     </mark><mark style=\"background-color: hsl(0, 75%, 100%);                    line-height:1.75\">                     </mark><mark style=\"background-color: hsl(0, 75%, 100%);                    line-height:1.75\">                     </mark><mark style=\"background-color: hsl(0, 75%, 100%);                    line-height:1.75\">                     </mark><mark style=\"background-color: hsl(0, 75%, 100%);                    line-height:1.75\">                     </mark><mark style=\"background-color: hsl(0, 75%, 100%);                    line-height:1.75\">                     </mark><mark style=\"background-color: hsl(0, 75%, 100%);                    line-height:1.75\">                     </mark><mark style=\"background-color: hsl(0, 75%, 100%);                    line-height:1.75\">                     </mark><mark style=\"background-color: hsl(0, 75%, 100%);                    line-height:1.75\">                     </mark><mark style=\"background-color: hsl(0, 75%, 100%);                    line-height:1.75\">                     </mark><mark style=\"background-color: hsl(0, 75%, 100%);                    line-height:1.75\">                     </mark><mark style=\"background-color: hsl(0, 75%, 100%);                    line-height:1.75\">                     </mark><mark style=\"background-color: hsl(0, 75%, 100%);                    line-height:1.75\">                     </mark><mark style=\"background-color: hsl(0, 75%, 100%);                    line-height:1.75\">                     </mark><mark style=\"background-color: hsl(0, 75%, 100%);                    line-height:1.75\">                     </mark><mark style=\"background-color: hsl(0, 75%, 100%);                    line-height:1.75\">                     </mark><mark style=\"background-color: hsl(0, 75%, 100%);                    line-height:1.75\">                     </mark><mark style=\"background-color: hsl(0, 75%, 100%);                    line-height:1.75\">                     </mark><mark style=\"background-color: hsl(0, 75%, 100%);                    line-height:1.75\">                     </mark><mark style=\"background-color: hsl(0, 75%, 100%);                    line-height:1.75\">                     </mark><mark style=\"background-color: hsl(0, 75%, 100%);                    line-height:1.75\">                     </mark><mark style=\"background-color: hsl(0, 75%, 100%);                    line-height:1.75\">                     </mark><mark style=\"background-color: hsl(0, 75%, 100%);                    line-height:1.75\">                     </mark><mark style=\"background-color: hsl(0, 75%, 100%);                    line-height:1.75\">                     </mark><mark style=\"background-color: hsl(0, 75%, 100%);                    line-height:1.75\">                     </mark><mark style=\"background-color: hsl(0, 75%, 100%);                    line-height:1.75\">                     </mark></td><tr><tr><td><b>Positive</b></td><td><b>Positive</b></td><td><mark style=\"background-color: hsl(0, 75%, 100%);                    line-height:1.75\"> *                    </mark><mark style=\"background-color: hsl(120, 75%, 98%);                    line-height:1.75\"> canadian                    </mark><mark style=\"background-color: hsl(0, 75%, 85%);                    line-height:1.75\"> workers                    </mark><mark style=\"background-color: hsl(120, 75%, 61%);                    line-height:1.75\"> .                    </mark><mark style=\"background-color: hsl(120, 75%, 92%);                    line-height:1.75\"> lots                    </mark><mark style=\"background-color: hsl(0, 75%, 100%);                    line-height:1.75\"> of                    </mark><mark style=\"background-color: hsl(0, 75%, 100%);                    line-height:1.75\"> people                    </mark><mark style=\"background-color: hsl(0, 75%, 100%);                    line-height:1.75\"> did                    </mark><mark style=\"background-color: hsl(0, 75%, 98%);                    line-height:1.75\"> nt                    </mark><mark style=\"background-color: hsl(0, 75%, 95%);                    line-height:1.75\"> qualify                    </mark><mark style=\"background-color: hsl(0, 75%, 99%);                    line-height:1.75\"> for                    </mark><mark style=\"background-color: hsl(0, 75%, 100%);                    line-height:1.75\"> cerb                    </mark><mark style=\"background-color: hsl(0, 75%, 100%);                    line-height:1.75\">                      </mark><mark style=\"background-color: hsl(120, 75%, 97%);                    line-height:1.75\"> including                    </mark><mark style=\"background-color: hsl(120, 75%, 90%);                    line-height:1.75\"> many                    </mark><mark style=\"background-color: hsl(0, 75%, 86%);                    line-height:1.75\"> disabled                    </mark><mark style=\"background-color: hsl(0, 75%, 97%);                    line-height:1.75\"> people                    </mark><mark style=\"background-color: hsl(0, 75%, 100%);                    line-height:1.75\">                     </mark><mark style=\"background-color: hsl(0, 75%, 100%);                    line-height:1.75\">                     </mark><mark style=\"background-color: hsl(0, 75%, 100%);                    line-height:1.75\">                     </mark><mark style=\"background-color: hsl(0, 75%, 100%);                    line-height:1.75\">                     </mark><mark style=\"background-color: hsl(0, 75%, 100%);                    line-height:1.75\">                     </mark><mark style=\"background-color: hsl(0, 75%, 100%);                    line-height:1.75\">                     </mark><mark style=\"background-color: hsl(0, 75%, 100%);                    line-height:1.75\">                     </mark><mark style=\"background-color: hsl(0, 75%, 100%);                    line-height:1.75\">                     </mark><mark style=\"background-color: hsl(0, 75%, 100%);                    line-height:1.75\">                     </mark><mark style=\"background-color: hsl(0, 75%, 100%);                    line-height:1.75\">                     </mark><mark style=\"background-color: hsl(0, 75%, 100%);                    line-height:1.75\">                     </mark><mark style=\"background-color: hsl(0, 75%, 100%);                    line-height:1.75\">                     </mark><mark style=\"background-color: hsl(0, 75%, 100%);                    line-height:1.75\">                     </mark><mark style=\"background-color: hsl(0, 75%, 100%);                    line-height:1.75\">                     </mark><mark style=\"background-color: hsl(0, 75%, 100%);                    line-height:1.75\">                     </mark><mark style=\"background-color: hsl(0, 75%, 100%);                    line-height:1.75\">                     </mark><mark style=\"background-color: hsl(0, 75%, 100%);                    line-height:1.75\">                     </mark><mark style=\"background-color: hsl(0, 75%, 100%);                    line-height:1.75\">                     </mark></td><tr><tr><td><b>Positive</b></td><td><b>Positive</b></td><td><mark style=\"background-color: hsl(120, 75%, 100%);                    line-height:1.75\"> .                    </mark><mark style=\"background-color: hsl(0, 75%, 100%);                    line-height:1.75\"> was                    </mark><mark style=\"background-color: hsl(0, 75%, 100%);                    line-height:1.75\"> the                    </mark><mark style=\"background-color: hsl(120, 75%, 83%);                    line-height:1.75\"> fastest                    </mark><mark style=\"background-color: hsl(120, 75%, 94%);                    line-height:1.75\"> overall                    </mark><mark style=\"background-color: hsl(120, 75%, 99%);                    line-height:1.75\"> in                    </mark><mark style=\"background-color: hsl(120, 75%, 97%);                    line-height:1.75\"> ;                    </mark><mark style=\"background-color: hsl(120, 75%, 96%);                    line-height:1.75\"> hot                    </mark><mark style=\"background-color: hsl(0, 75%, 98%);                    line-height:1.75\"> laps                    </mark><mark style=\"background-color: hsl(120, 75%, 91%);                    line-height:1.75\"> tonight                    </mark><mark style=\"background-color: hsl(120, 75%, 98%);                    line-height:1.75\"> at                    </mark><mark style=\"background-color: hsl(120, 75%, 99%);                    line-height:1.75\"> with                    </mark><mark style=\"background-color: hsl(0, 75%, 98%);                    line-height:1.75\"> a                    </mark><mark style=\"background-color: hsl(0, 75%, 97%);                    line-height:1.75\"> lap                    </mark><mark style=\"background-color: hsl(0, 75%, 94%);                    line-height:1.75\"> of                    </mark><mark style=\"background-color: hsl(120, 75%, 99%);                    line-height:1.75\"> 15.890                    </mark><mark style=\"background-color: hsl(120, 75%, 57%);                    line-height:1.75\"> .                    </mark><mark style=\"background-color: hsl(0, 75%, 100%);                    line-height:1.75\">                     </mark><mark style=\"background-color: hsl(0, 75%, 100%);                    line-height:1.75\">                     </mark><mark style=\"background-color: hsl(0, 75%, 100%);                    line-height:1.75\">                     </mark><mark style=\"background-color: hsl(0, 75%, 100%);                    line-height:1.75\">                     </mark><mark style=\"background-color: hsl(0, 75%, 100%);                    line-height:1.75\">                     </mark><mark style=\"background-color: hsl(0, 75%, 100%);                    line-height:1.75\">                     </mark><mark style=\"background-color: hsl(0, 75%, 100%);                    line-height:1.75\">                     </mark><mark style=\"background-color: hsl(0, 75%, 100%);                    line-height:1.75\">                     </mark><mark style=\"background-color: hsl(0, 75%, 100%);                    line-height:1.75\">                     </mark><mark style=\"background-color: hsl(0, 75%, 100%);                    line-height:1.75\">                     </mark><mark style=\"background-color: hsl(0, 75%, 100%);                    line-height:1.75\">                     </mark><mark style=\"background-color: hsl(0, 75%, 100%);                    line-height:1.75\">                     </mark><mark style=\"background-color: hsl(0, 75%, 100%);                    line-height:1.75\">                     </mark><mark style=\"background-color: hsl(0, 75%, 100%);                    line-height:1.75\">                     </mark><mark style=\"background-color: hsl(0, 75%, 100%);                    line-height:1.75\">                     </mark><mark style=\"background-color: hsl(0, 75%, 100%);                    line-height:1.75\">                     </mark><mark style=\"background-color: hsl(0, 75%, 100%);                    line-height:1.75\">                     </mark><mark style=\"background-color: hsl(0, 75%, 100%);                    line-height:1.75\">                     </mark></td><tr><tr><td><b>Negative</b></td><td><b>Negative</b></td><td><mark style=\"background-color: hsl(0, 75%, 70%);                    line-height:1.75\"> cra                    </mark><mark style=\"background-color: hsl(0, 75%, 79%);                    line-height:1.75\"> processing                    </mark><mark style=\"background-color: hsl(120, 75%, 84%);                    line-height:1.75\"> times                    </mark><mark style=\"background-color: hsl(120, 75%, 94%);                    line-height:1.75\"> for                    </mark><mark style=\"background-color: hsl(0, 75%, 100%);                    line-height:1.75\">                      </mark><mark style=\"background-color: hsl(120, 75%, 96%);                    line-height:1.75\"> returns                    </mark><mark style=\"background-color: hsl(0, 75%, 100%);                    line-height:1.75\">                     </mark><mark style=\"background-color: hsl(0, 75%, 100%);                    line-height:1.75\">                     </mark><mark style=\"background-color: hsl(0, 75%, 100%);                    line-height:1.75\">                     </mark><mark style=\"background-color: hsl(0, 75%, 100%);                    line-height:1.75\">                     </mark><mark style=\"background-color: hsl(0, 75%, 100%);                    line-height:1.75\">                     </mark><mark style=\"background-color: hsl(0, 75%, 100%);                    line-height:1.75\">                     </mark><mark style=\"background-color: hsl(0, 75%, 100%);                    line-height:1.75\">                     </mark><mark style=\"background-color: hsl(0, 75%, 100%);                    line-height:1.75\">                     </mark><mark style=\"background-color: hsl(0, 75%, 100%);                    line-height:1.75\">                     </mark><mark style=\"background-color: hsl(0, 75%, 100%);                    line-height:1.75\">                     </mark><mark style=\"background-color: hsl(0, 75%, 100%);                    line-height:1.75\">                     </mark><mark style=\"background-color: hsl(0, 75%, 100%);                    line-height:1.75\">                     </mark><mark style=\"background-color: hsl(0, 75%, 100%);                    line-height:1.75\">                     </mark><mark style=\"background-color: hsl(0, 75%, 100%);                    line-height:1.75\">                     </mark><mark style=\"background-color: hsl(0, 75%, 100%);                    line-height:1.75\">                     </mark><mark style=\"background-color: hsl(0, 75%, 100%);                    line-height:1.75\">                     </mark><mark style=\"background-color: hsl(0, 75%, 100%);                    line-height:1.75\">                     </mark><mark style=\"background-color: hsl(0, 75%, 100%);                    line-height:1.75\">                     </mark><mark style=\"background-color: hsl(0, 75%, 100%);                    line-height:1.75\">                     </mark><mark style=\"background-color: hsl(0, 75%, 100%);                    line-height:1.75\">                     </mark><mark style=\"background-color: hsl(0, 75%, 100%);                    line-height:1.75\">                     </mark><mark style=\"background-color: hsl(0, 75%, 100%);                    line-height:1.75\">                     </mark><mark style=\"background-color: hsl(0, 75%, 100%);                    line-height:1.75\">                     </mark><mark style=\"background-color: hsl(0, 75%, 100%);                    line-height:1.75\">                     </mark><mark style=\"background-color: hsl(0, 75%, 100%);                    line-height:1.75\">                     </mark><mark style=\"background-color: hsl(0, 75%, 100%);                    line-height:1.75\">                     </mark><mark style=\"background-color: hsl(0, 75%, 100%);                    line-height:1.75\">                     </mark><mark style=\"background-color: hsl(0, 75%, 100%);                    line-height:1.75\">                     </mark><mark style=\"background-color: hsl(0, 75%, 100%);                    line-height:1.75\">                     </mark></td><tr></table>"
      ],
      "text/plain": [
       "<IPython.core.display.HTML object>"
      ]
     },
     "execution_count": 49,
     "metadata": {},
     "output_type": "execute_result"
    }
   ],
   "source": [
    "# clear visualization data records for next run\n",
    "vis_data_records_ig = []\n",
    "\n",
    "def interpret_visualize(datapath, filename, text_col_name, label_col_name, num_text_to_display):\n",
    "    \"\"\"\n",
    "    This is a helper function to wrap the Captum interpretability visualization process.\n",
    "    It reads a CSV dataset and randomly visualizes the desired number of rows, where\n",
    "    half of the examples are positive (half + 1 for odd numbers) and the rest are \n",
    "    negative.\n",
    "    \n",
    "    Parameters\n",
    "    ----------\n",
    "    datapath : str\n",
    "        Full directory path of the dataset\n",
    "    filename : str\n",
    "        Name of the CSV dataset\n",
    "    text_col_name : str\n",
    "        Name of the column that holds the texts e.g. posts, comments, tweets\n",
    "    label_col_name : str\n",
    "        Name of the column that holds the class labels e.g. positive, negative\n",
    "    num_text_to_display : int\n",
    "        The number of texts (rows) to display on the dashboard        \n",
    "    \"\"\"\n",
    "    \n",
    "    filepath = datapath + '/' + filename\n",
    "#     print(filepath + '\\n')\n",
    "\n",
    "    # Convert csv to dataframe\n",
    "    df = pd.read_csv(filepath)\n",
    "    df = df.sample(frac=1).reset_index(drop=True)\n",
    "#     print(\"converted dataset to dataframe\\n\")\n",
    "\n",
    "    # display only 5 rows from a random sample\n",
    "    positive_sent = df[label_col_name] == 'Positive'\n",
    "    negative_sent = df[label_col_name] == 'Negative'\n",
    "\n",
    "\n",
    "    for i in range(0, num_text_to_display):\n",
    "        try:\n",
    "            if i <= np.ceil(num_text_to_display/2):\n",
    "                text = df.loc[positive_sent].sample(frac=0.01).Text.values[0]\n",
    "                interpret_sentence(model, text, true_label=positive)\n",
    "            else:\n",
    "                text = df.loc[negative_sent].sample(frac=0.01).Text.values[0]\n",
    "                interpret_sentence(model, text, true_label=negative)\n",
    "        except:\n",
    "            continue\n",
    "\n",
    "# Initialize parameters and visualize on dashboard\n",
    "datasetpath = '/mnt/batch/tasks/shared/LS_root/mounts/clusters/xai/code/xai-ml/datasets/sentiment-analysis-cra/'\n",
    "filename = 'sentiment-data-csuh-shuf-train.csv'\n",
    "text_column = 'Text'\n",
    "label_column = 'Label'\n",
    "num_text_to_display = 5\n",
    "\n",
    "interpret_visualize(datasetpath, filename, text_column, label_column, num_text_to_display)\n",
    "print('Visualize attributions based on Integrated Gradients')\n",
    "visualization_mod.visualize_text(vis_data_records_ig)"
   ]
  },
  {
   "cell_type": "code",
   "execution_count": null,
   "metadata": {},
   "outputs": [],
   "source": []
  }
 ],
 "metadata": {
  "kernelspec": {
   "display_name": "Python 3",
   "language": "python",
   "name": "python3"
  },
  "language_info": {
   "codemirror_mode": {
    "name": "ipython",
    "version": 3
   },
   "file_extension": ".py",
   "mimetype": "text/x-python",
   "name": "python",
   "nbconvert_exporter": "python",
   "pygments_lexer": "ipython3",
   "version": "3.6.9"
  }
 },
 "nbformat": 4,
 "nbformat_minor": 4
}
